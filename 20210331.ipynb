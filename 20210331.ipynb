{
  "nbformat": 4,
  "nbformat_minor": 0,
  "metadata": {
    "colab": {
      "name": "Untitled6.ipynb",
      "provenance": [],
      "authorship_tag": "ABX9TyO+5vZHfzIBjorpoJjYWg//",
      "include_colab_link": true
    },
    "kernelspec": {
      "name": "python3",
      "display_name": "Python 3"
    },
    "language_info": {
      "name": "python"
    }
  },
  "cells": [
    {
      "cell_type": "markdown",
      "metadata": {
        "id": "view-in-github",
        "colab_type": "text"
      },
      "source": [
        "<a href=\"https://colab.research.google.com/github/KU18DHK/class2021Spring/blob/main/20210331.ipynb\" target=\"_parent\"><img src=\"https://colab.research.google.com/assets/colab-badge.svg\" alt=\"Open In Colab\"/></a>"
      ]
    },
    {
      "cell_type": "code",
      "metadata": {
        "id": "_hu0sjUn5ncY"
      },
      "source": [
        ""
      ],
      "execution_count": null,
      "outputs": []
    },
    {
      "cell_type": "markdown",
      "metadata": {
        "id": "o53CtTxo5q6X"
      },
      "source": [
        "20210331 수업\n",
        "'아'와 '애' 비교\n",
        "\n",
        "\n",
        "#'아'\n",
        "pitch : 103.9Hz\n",
        "intensity : 81dB\n",
        "formant : 798Hz / 1117Hz\n",
        "duration : 0.33\n",
        "\n",
        "#'애'\n",
        "pitch : 106.3Hz\n",
        "intensity : 78dB\n",
        "formant : 511Hz / 1819\n",
        "duration : 0.7"
      ]
    }
  ]
}