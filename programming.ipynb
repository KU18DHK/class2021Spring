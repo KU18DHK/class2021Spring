{
  "nbformat": 4,
  "nbformat_minor": 0,
  "metadata": {
    "colab": {
      "name": "programming.ipynb",
      "provenance": [],
      "authorship_tag": "ABX9TyNMXHTeoEAzzSx1XV5eqf3c",
      "include_colab_link": true
    },
    "kernelspec": {
      "name": "python3",
      "display_name": "Python 3"
    }
  },
  "cells": [
    {
      "cell_type": "markdown",
      "metadata": {
        "id": "view-in-github",
        "colab_type": "text"
      },
      "source": [
        "<a href=\"https://colab.research.google.com/github/KU18DHK/class2021Spring/blob/main/programming.ipynb\" target=\"_parent\"><img src=\"https://colab.research.google.com/assets/colab-badge.svg\" alt=\"Open In Colab\"/></a>"
      ]
    },
    {
      "cell_type": "code",
      "metadata": {
        "id": "8Yvuyvxmo0vu"
      },
      "source": [
        ""
      ],
      "execution_count": null,
      "outputs": []
    },
    {
      "cell_type": "markdown",
      "metadata": {
        "id": "OkTN5nAuo6Ux"
      },
      "source": [
        "### 0310 수업내용\r\n",
        "\r\n",
        "\r\n",
        "**프로그래밍 언어의 요소**\r\n",
        "\r\n",
        "1. 변수 (variable)\r\n",
        "- 인간 언어의 단어라 하면 그 자체에 어떠한 개념이 내포돼있는데, 프로그래밍 언어의 경우 변수에 특정 내용을 할당하는 것이 이에 해당함.\r\n",
        "즉, 변수는 정보를 담기 위한 껍데기에 해당.\r\n",
        "추가적으로, 내용을 변수에 할당하기 위해서 equal sign을 사용함. \r\n",
        "\r\n",
        "2. 제어문\r\n",
        "- 프로그래밍 언어의 문법에 해당. 다양한 변수 및 자료형들을 제어함으로써 특정 목적을 위한 수행을 하는데, 그 종류로는 반복과 조건이 있음.\r\n",
        "반복의 경우 for문을 사용하고, 조건의 경우 if문을 사용함. \r\n",
        "\r\n",
        "3. 함수\r\n",
        "- 프로그래밍 설계에 있어 입출력의 설계는 중요한 부분인데, 이 기능을 수행하는 것이 바로 함수임. \r\n",
        "함수란 입력과 출력 사이에 존재하는 관계를 나타내는 것으로, 입력을 받아들인 후 함수 내에 존재하는 기능을 통해 그것을 변화시켜 출력해냄.\r\n",
        "흔히 우리가 아는 형태인 y = f(x)의 경우 f는 함수명, x는 출력값, y는 입력값을 나타냄. \r\n",
        "\r\n",
        "\r\n",
        "\r\n",
        "\r\n"
      ]
    }
  ]
}