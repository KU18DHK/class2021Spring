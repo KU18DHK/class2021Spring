{
  "nbformat": 4,
  "nbformat_minor": 0,
  "metadata": {
    "colab": {
      "name": "module.ipynb",
      "provenance": [],
      "authorship_tag": "ABX9TyNzJ0SLl3qhXdMqjysiuBF/",
      "include_colab_link": true
    },
    "kernelspec": {
      "name": "python3",
      "display_name": "Python 3"
    },
    "language_info": {
      "name": "python"
    }
  },
  "cells": [
    {
      "cell_type": "markdown",
      "metadata": {
        "id": "view-in-github",
        "colab_type": "text"
      },
      "source": [
        "<a href=\"https://colab.research.google.com/github/KU18DHK/class2021Spring/blob/main/module.ipynb\" target=\"_parent\"><img src=\"https://colab.research.google.com/assets/colab-badge.svg\" alt=\"Open In Colab\"/></a>"
      ]
    },
    {
      "cell_type": "code",
      "metadata": {
        "id": "TeL0RM62xBhi"
      },
      "source": [
        ""
      ],
      "execution_count": null,
      "outputs": []
    },
    {
      "cell_type": "code",
      "metadata": {
        "id": "sU1MEIdt2UEc"
      },
      "source": [
        "class cal:\n",
        "  def __init__(self):\n",
        "    self.result = 0\n",
        "  def add(self, n):\n",
        "    self.result += n\n",
        "    return self.result"
      ],
      "execution_count": null,
      "outputs": []
    },
    {
      "cell_type": "code",
      "metadata": {
        "id": "vNo-dStVcaKo"
      },
      "source": [
        "A = cal()"
      ],
      "execution_count": null,
      "outputs": []
    },
    {
      "cell_type": "markdown",
      "metadata": {
        "id": "vm8HlcVfchq5"
      },
      "source": [
        "A라는 객체에 cal()을 넣어줌으로써 위의 코드들이 실행되는 것임"
      ]
    },
    {
      "cell_type": "code",
      "metadata": {
        "id": "msAQ5AkhcpcI",
        "colab": {
          "base_uri": "https://localhost:8080/"
        },
        "outputId": "e44f7151-83a5-4cee-a826-530e5f0087ce"
      },
      "source": [
        "A.result"
      ],
      "execution_count": null,
      "outputs": [
        {
          "output_type": "execute_result",
          "data": {
            "text/plain": [
              "0"
            ]
          },
          "metadata": {
            "tags": []
          },
          "execution_count": 4
        }
      ]
    },
    {
      "cell_type": "code",
      "metadata": {
        "id": "1F_SfBRwcrn_",
        "colab": {
          "base_uri": "https://localhost:8080/"
        },
        "outputId": "352fc72d-516d-4486-efd2-439fcd9d8359"
      },
      "source": [
        "A.add(4)"
      ],
      "execution_count": null,
      "outputs": [
        {
          "output_type": "execute_result",
          "data": {
            "text/plain": [
              "4"
            ]
          },
          "metadata": {
            "tags": []
          },
          "execution_count": 5
        }
      ]
    },
    {
      "cell_type": "markdown",
      "metadata": {
        "id": "fAjwU1nfdHaH"
      },
      "source": [
        "self가 4였다가 0이 된것. 논항에 적는 것은 n부분임"
      ]
    },
    {
      "cell_type": "code",
      "metadata": {
        "id": "OQgOdCKUdmMk"
      },
      "source": [
        "B = cal()"
      ],
      "execution_count": null,
      "outputs": []
    },
    {
      "cell_type": "code",
      "metadata": {
        "colab": {
          "base_uri": "https://localhost:8080/"
        },
        "id": "z60ohU4kdmvO",
        "outputId": "2e2f9b3e-8702-4ffe-83bc-b2f76c744945"
      },
      "source": [
        "B.result"
      ],
      "execution_count": null,
      "outputs": [
        {
          "output_type": "execute_result",
          "data": {
            "text/plain": [
              "0"
            ]
          },
          "metadata": {
            "tags": []
          },
          "execution_count": 8
        }
      ]
    },
    {
      "cell_type": "markdown",
      "metadata": {
        "id": "t3NJJvmCdqCq"
      },
      "source": [
        "B가 객체. 객체의 논항?이 result"
      ]
    },
    {
      "cell_type": "code",
      "metadata": {
        "id": "DK4vTA6T4NN0"
      },
      "source": [
        "def func(a, b, x):\n",
        "  y = a*x + b\n",
        "  return y"
      ],
      "execution_count": null,
      "outputs": []
    }
  ]
}