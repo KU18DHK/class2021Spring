{
  "nbformat": 4,
  "nbformat_minor": 0,
  "metadata": {
    "colab": {
      "name": "Untitled8.ipynb",
      "provenance": [],
      "authorship_tag": "ABX9TyOF2IUr6wU8XkUpRM133HK8",
      "include_colab_link": true
    },
    "kernelspec": {
      "name": "python3",
      "display_name": "Python 3"
    },
    "language_info": {
      "name": "python"
    }
  },
  "cells": [
    {
      "cell_type": "markdown",
      "metadata": {
        "id": "view-in-github",
        "colab_type": "text"
      },
      "source": [
        "<a href=\"https://colab.research.google.com/github/KU18DHK/class2021Spring/blob/main/20210426.ipynb\" target=\"_parent\"><img src=\"https://colab.research.google.com/assets/colab-badge.svg\" alt=\"Open In Colab\"/></a>"
      ]
    },
    {
      "cell_type": "code",
      "metadata": {
        "id": "SywVedT7w70J"
      },
      "source": [
        "%matplotlib inline\n",
        "from matplotlib import pyplot as plt\n",
        "import IPython.display as ipd\n",
        "import numpy as np\n",
        "from scipy.signal import lfilter"
      ],
      "execution_count": 1,
      "outputs": []
    },
    {
      "cell_type": "code",
      "metadata": {
        "id": "SGBHFrZlxx3N"
      },
      "source": [
        "def phasor(amp,sr,dur,freq):\n",
        "  t = np.arange(1, sr * dur+1)/sr\n",
        "  theta = t * 2*np.pi * freq \n",
        "  s = np.sin(theta)\n",
        "  return(s,theta,t)"
      ],
      "execution_count": 4,
      "outputs": []
    },
    {
      "cell_type": "code",
      "metadata": {
        "colab": {
          "base_uri": "https://localhost:8080/"
        },
        "id": "7NtvywcpyUKX",
        "outputId": "acad4743-663d-4118-ff49-67263ab1a6cc"
      },
      "source": [
        "phasor(1,10000,0.5,200.0)"
      ],
      "execution_count": 5,
      "outputs": [
        {
          "output_type": "execute_result",
          "data": {
            "text/plain": [
              "(array([ 1.25333234e-01,  2.48689887e-01,  3.68124553e-01, ...,\n",
              "        -2.48689887e-01, -1.25333234e-01,  3.92877345e-15]),\n",
              " array([1.25663706e-01, 2.51327412e-01, 3.76991118e-01, ...,\n",
              "        6.28067203e+02, 6.28192867e+02, 6.28318531e+02]),\n",
              " array([1.000e-04, 2.000e-04, 3.000e-04, ..., 4.998e-01, 4.999e-01,\n",
              "        5.000e-01]))"
            ]
          },
          "metadata": {
            "tags": []
          },
          "execution_count": 5
        }
      ]
    },
    {
      "cell_type": "code",
      "metadata": {
        "id": "4o58XPg_yaCz"
      },
      "source": [
        ""
      ],
      "execution_count": null,
      "outputs": []
    }
  ]
}